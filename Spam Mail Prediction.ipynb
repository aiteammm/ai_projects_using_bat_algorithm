{
 "cells": [
  {
   "cell_type": "markdown",
   "id": "86b02769-8998-4da0-8409-4f8a69bd18dd",
   "metadata": {},
   "source": [
    "# Import the Dependencies"
   ]
  },
  {
   "cell_type": "code",
   "execution_count": 4,
   "id": "239cbaa8-3300-4990-ad48-ec3f49fffece",
   "metadata": {},
   "outputs": [],
   "source": [
    "import numpy as np\n",
    "import pandas as pd\n",
    "from sklearn.model_selection import train_test_split\n",
    "from sklearn.feature_extraction.text import TfidfVectorizer\n",
    "from sklearn.metrics import accuracy_score, precision_score, recall_score, f1_score, confusion_matrix"
   ]
  },
  {
   "cell_type": "markdown",
   "id": "fb71fbec-76ab-4172-b4bd-3b7e7d7b810f",
   "metadata": {},
   "source": [
    "# Data Collection & Pre-Processing"
   ]
  },
  {
   "cell_type": "code",
   "execution_count": 6,
   "id": "fe4be2a1-f4d8-4c40-96a2-74268532078b",
   "metadata": {},
   "outputs": [],
   "source": [
    "# loading the data from csv file to a pandas Dataframe\n",
    "raw_mail_data = pd.read_csv('mail_data.csv')"
   ]
  },
  {
   "cell_type": "code",
   "execution_count": 9,
   "id": "c8825293-ff20-4a92-b84a-afb99bc035b3",
   "metadata": {},
   "outputs": [
    {
     "name": "stdout",
     "output_type": "stream",
     "text": [
      "     Category                                            Message\n",
      "0         ham  Go until jurong point, crazy.. Available only ...\n",
      "1         ham                      Ok lar... Joking wif u oni...\n",
      "2        spam  Free entry in 2 a wkly comp to win FA Cup fina...\n",
      "3         ham  U dun say so early hor... U c already then say...\n",
      "4         ham  Nah I don't think he goes to usf, he lives aro...\n",
      "...       ...                                                ...\n",
      "5567     spam  This is the 2nd time we have tried 2 contact u...\n",
      "5568      ham               Will ü b going to esplanade fr home?\n",
      "5569      ham  Pity, * was in mood for that. So...any other s...\n",
      "5570      ham  The guy did some bitching but I acted like i'd...\n",
      "5571      ham                         Rofl. Its true to its name\n",
      "\n",
      "[5572 rows x 2 columns]\n"
     ]
    }
   ],
   "source": [
    "print(raw_mail_data)"
   ]
  },
  {
   "cell_type": "code",
   "execution_count": 11,
   "id": "e68fe729-49c7-49ca-8416-31a60b9779c4",
   "metadata": {},
   "outputs": [],
   "source": [
    "# replace the null values with a null string\n",
    "mail_data = raw_mail_data.where((pd.notnull(raw_mail_data)),'')"
   ]
  },
  {
   "cell_type": "code",
   "execution_count": 13,
   "id": "2dd947b7-344a-46d1-b19c-c0528830daac",
   "metadata": {},
   "outputs": [
    {
     "data": {
      "text/html": [
       "<div>\n",
       "<style scoped>\n",
       "    .dataframe tbody tr th:only-of-type {\n",
       "        vertical-align: middle;\n",
       "    }\n",
       "\n",
       "    .dataframe tbody tr th {\n",
       "        vertical-align: top;\n",
       "    }\n",
       "\n",
       "    .dataframe thead th {\n",
       "        text-align: right;\n",
       "    }\n",
       "</style>\n",
       "<table border=\"1\" class=\"dataframe\">\n",
       "  <thead>\n",
       "    <tr style=\"text-align: right;\">\n",
       "      <th></th>\n",
       "      <th>Category</th>\n",
       "      <th>Message</th>\n",
       "    </tr>\n",
       "  </thead>\n",
       "  <tbody>\n",
       "    <tr>\n",
       "      <th>0</th>\n",
       "      <td>ham</td>\n",
       "      <td>Go until jurong point, crazy.. Available only ...</td>\n",
       "    </tr>\n",
       "    <tr>\n",
       "      <th>1</th>\n",
       "      <td>ham</td>\n",
       "      <td>Ok lar... Joking wif u oni...</td>\n",
       "    </tr>\n",
       "    <tr>\n",
       "      <th>2</th>\n",
       "      <td>spam</td>\n",
       "      <td>Free entry in 2 a wkly comp to win FA Cup fina...</td>\n",
       "    </tr>\n",
       "    <tr>\n",
       "      <th>3</th>\n",
       "      <td>ham</td>\n",
       "      <td>U dun say so early hor... U c already then say...</td>\n",
       "    </tr>\n",
       "    <tr>\n",
       "      <th>4</th>\n",
       "      <td>ham</td>\n",
       "      <td>Nah I don't think he goes to usf, he lives aro...</td>\n",
       "    </tr>\n",
       "  </tbody>\n",
       "</table>\n",
       "</div>"
      ],
      "text/plain": [
       "  Category                                            Message\n",
       "0      ham  Go until jurong point, crazy.. Available only ...\n",
       "1      ham                      Ok lar... Joking wif u oni...\n",
       "2     spam  Free entry in 2 a wkly comp to win FA Cup fina...\n",
       "3      ham  U dun say so early hor... U c already then say...\n",
       "4      ham  Nah I don't think he goes to usf, he lives aro..."
      ]
     },
     "execution_count": 13,
     "metadata": {},
     "output_type": "execute_result"
    }
   ],
   "source": [
    "# printing the first 5 rows of the dataframe\n",
    "mail_data.head()"
   ]
  },
  {
   "cell_type": "code",
   "execution_count": 15,
   "id": "0ce6d8f9-0ed2-4209-a310-d5df5489e88c",
   "metadata": {},
   "outputs": [
    {
     "data": {
      "text/plain": [
       "(5572, 2)"
      ]
     },
     "execution_count": 15,
     "metadata": {},
     "output_type": "execute_result"
    }
   ],
   "source": [
    "# checking the number of rows and columns in the dataframe\n",
    "mail_data.shape"
   ]
  },
  {
   "cell_type": "markdown",
   "id": "aa3ae622-7ca8-4c7c-b621-e7529457190e",
   "metadata": {},
   "source": [
    "# Label Encoding"
   ]
  },
  {
   "cell_type": "code",
   "execution_count": 18,
   "id": "b9e27d77-0d7e-4ae6-aa46-009250ea34c7",
   "metadata": {},
   "outputs": [],
   "source": [
    "# label spam mail as 0;  ham mail as 1;\n",
    "\n",
    "mail_data.loc[mail_data['Category'] == 'spam', 'Category',] = 0\n",
    "mail_data.loc[mail_data['Category'] == 'ham', 'Category',] = 1"
   ]
  },
  {
   "cell_type": "markdown",
   "id": "5299c69c-6d95-4c35-bb24-33bb345f1b00",
   "metadata": {},
   "source": [
    "# Spam - 0\n",
    "# Ham - 1"
   ]
  },
  {
   "cell_type": "code",
   "execution_count": 21,
   "id": "d5cf9ce7-942f-4886-a3e2-74441ec7f1cf",
   "metadata": {},
   "outputs": [],
   "source": [
    "# Split features and labels\n",
    "X = mail_data['Message']\n",
    "Y = mail_data['Category'].astype(int)"
   ]
  },
  {
   "cell_type": "code",
   "execution_count": 23,
   "id": "6e097cb7-a900-4181-997a-fc8d0c81c591",
   "metadata": {},
   "outputs": [
    {
     "name": "stdout",
     "output_type": "stream",
     "text": [
      "0       Go until jurong point, crazy.. Available only ...\n",
      "1                           Ok lar... Joking wif u oni...\n",
      "2       Free entry in 2 a wkly comp to win FA Cup fina...\n",
      "3       U dun say so early hor... U c already then say...\n",
      "4       Nah I don't think he goes to usf, he lives aro...\n",
      "                              ...                        \n",
      "5567    This is the 2nd time we have tried 2 contact u...\n",
      "5568                 Will ü b going to esplanade fr home?\n",
      "5569    Pity, * was in mood for that. So...any other s...\n",
      "5570    The guy did some bitching but I acted like i'd...\n",
      "5571                           Rofl. Its true to its name\n",
      "Name: Message, Length: 5572, dtype: object\n"
     ]
    }
   ],
   "source": [
    "print(X)"
   ]
  },
  {
   "cell_type": "code",
   "execution_count": 25,
   "id": "52474f30-c0f5-461c-9a4b-2ba98ec9cd7e",
   "metadata": {},
   "outputs": [
    {
     "name": "stdout",
     "output_type": "stream",
     "text": [
      "0       1\n",
      "1       1\n",
      "2       0\n",
      "3       1\n",
      "4       1\n",
      "       ..\n",
      "5567    0\n",
      "5568    1\n",
      "5569    1\n",
      "5570    1\n",
      "5571    1\n",
      "Name: Category, Length: 5572, dtype: int32\n"
     ]
    }
   ],
   "source": [
    "print(Y)"
   ]
  },
  {
   "cell_type": "markdown",
   "id": "07b57d3f-a5e9-4732-8984-c128e428ca58",
   "metadata": {},
   "source": [
    "# Splitting the data into training data & test data"
   ]
  },
  {
   "cell_type": "code",
   "execution_count": 28,
   "id": "7ffac9ae-5244-4be7-926f-df71e21754d8",
   "metadata": {},
   "outputs": [],
   "source": [
    "X_train, X_test, Y_train, Y_test = train_test_split(X, Y, test_size=0.2, random_state=3)"
   ]
  },
  {
   "cell_type": "code",
   "execution_count": 30,
   "id": "8d260c8c-f2fb-4802-9e50-d7e115d1b05b",
   "metadata": {},
   "outputs": [
    {
     "name": "stdout",
     "output_type": "stream",
     "text": [
      "(5572,)\n",
      "(4457,)\n",
      "(1115,)\n"
     ]
    }
   ],
   "source": [
    "print(X.shape)\n",
    "print(X_train.shape)\n",
    "print(X_test.shape)"
   ]
  },
  {
   "cell_type": "markdown",
   "id": "d5efcd73-923e-40d6-aac7-1a3e3777b774",
   "metadata": {},
   "source": [
    "# Feature Extraction"
   ]
  },
  {
   "cell_type": "code",
   "execution_count": 33,
   "id": "fb875144-43a2-4f5b-9038-509a57eca8b0",
   "metadata": {},
   "outputs": [],
   "source": [
    "# transform the text data to feature vectors that can be used as input to the Logistic regression\n",
    "\n",
    "feature_extraction = TfidfVectorizer(min_df = 1, stop_words='english', lowercase=True)\n",
    "\n",
    "X_train_features = feature_extraction.fit_transform(X_train)\n",
    "X_test_features = feature_extraction.transform(X_test)\n",
    "\n",
    "# Convert to dense array\n",
    "X_train_features = X_train_features.toarray()\n",
    "X_test_features = X_test_features.toarray()"
   ]
  },
  {
   "cell_type": "markdown",
   "id": "78ad57c5-eff1-4bcd-9533-3d36c3f3a6a2",
   "metadata": {},
   "source": [
    "# Define fitness function for the Bat Algorithm"
   ]
  },
  {
   "cell_type": "code",
   "execution_count": 36,
   "id": "ee8afcbf-2208-4a81-b34b-2d9e32412321",
   "metadata": {},
   "outputs": [],
   "source": [
    "def fitness_function(weights, X, y):\n",
    "    \"\"\"Fitness function: Evaluate the classification performance.\"\"\"\n",
    "    # Apply weights to the dataset\n",
    "    weighted_features = X * weights\n",
    "    # Simple thresholding-based classifier\n",
    "    predictions = np.where(np.sum(weighted_features, axis=1) > 0.5, 1, 0)\n",
    "    # Calculate F1 score as the optimization metric\n",
    "    return -f1_score(y, predictions)"
   ]
  },
  {
   "cell_type": "markdown",
   "id": "fcb1c33c-5f28-471b-ba31-8243cc21f478",
   "metadata": {},
   "source": [
    "# Implement the Bat Algorithm"
   ]
  },
  {
   "cell_type": "code",
   "execution_count": 39,
   "id": "621fde33-7ab2-4711-b24d-e6c7dbf08ada",
   "metadata": {},
   "outputs": [],
   "source": [
    "def BAT(objf, lb, ub, dim, N, Max_iteration, X, y):\n",
    "    # Initialization\n",
    "    A = np.ones(N)   # Loudness\n",
    "    r = np.ones(N)   # Pulse rate\n",
    "    Qmin = 0         # Min frequency\n",
    "    Qmax = 2         # Max frequency\n",
    "    Q = np.zeros(N)  # Frequency\n",
    "    v = np.zeros((N, dim))  # Velocities\n",
    "    S = np.random.uniform(lb, ub, (N, dim))  # Solutions\n",
    "    best = S[0]\n",
    "    best_fitness = float('inf')\n",
    "    \n",
    "    for i in range(N):\n",
    "        fitness = objf(S[i], X, y)\n",
    "        if fitness < best_fitness:\n",
    "            best_fitness = fitness\n",
    "            best = S[i]\n",
    "    \n",
    "    Convergence_curve = []\n",
    "    for t in range(Max_iteration):\n",
    "        for i in range(N):\n",
    "            Q[i] = Qmin + (Qmax - Qmin) * np.random.rand()\n",
    "            v[i] += (S[i] - best) * Q[i]\n",
    "            new_solution = S[i] + v[i]\n",
    "            new_solution = np.clip(new_solution, lb, ub)\n",
    "            \n",
    "            if np.random.rand() > r[i]:\n",
    "                new_solution = best + 0.1 * np.random.randn(dim)\n",
    "            \n",
    "            new_fitness = objf(new_solution, X, y)\n",
    "            if new_fitness < best_fitness and np.random.rand() < A[i]:\n",
    "                best = new_solution\n",
    "                best_fitness = new_fitness\n",
    "                A[i] *= 0.9  # Decrease loudness\n",
    "                r[i] *= 1.1  # Increase pulse rate\n",
    "        \n",
    "        Convergence_curve.append(best_fitness)\n",
    "    \n",
    "    return best, -best_fitness, Convergence_curve"
   ]
  },
  {
   "cell_type": "markdown",
   "id": "2b915608-d4c6-4c96-bb57-adbc3879a3ac",
   "metadata": {},
   "source": [
    "# Run the Bat Algorithm"
   ]
  },
  {
   "cell_type": "code",
   "execution_count": 42,
   "id": "9546c37c-debd-4b16-bb62-0d36e45445f5",
   "metadata": {},
   "outputs": [],
   "source": [
    "dim = X_train_features.shape[1]  # Number of features\n",
    "lb = np.zeros(dim)  # Lower bound of weights\n",
    "ub = np.ones(dim)   # Upper bound of weights\n",
    "N = 20              # Population size\n",
    "Max_iteration = 50\n",
    "\n",
    "best_weights, best_fitness, convergence = BAT(\n",
    "    fitness_function, lb, ub, dim, N, Max_iteration, X_train_features, Y_train\n",
    ")"
   ]
  },
  {
   "cell_type": "markdown",
   "id": "ae44ec81-cf8a-4d71-ac30-dd44cb6c63ca",
   "metadata": {},
   "source": [
    "# Apply the optimized weights to the test set"
   ]
  },
  {
   "cell_type": "code",
   "execution_count": 47,
   "id": "6b106588-a42a-48a1-b3eb-cbc5e3d63d03",
   "metadata": {},
   "outputs": [],
   "source": [
    "weighted_test_features = X_test_features * best_weights\n",
    "test_predictions = np.where(np.sum(weighted_test_features, axis=1) > 0.5, 1, 0)"
   ]
  },
  {
   "cell_type": "markdown",
   "id": "02292c7a-3f2e-40c6-9126-1d83407658c2",
   "metadata": {},
   "source": [
    "# Evaluation metrics"
   ]
  },
  {
   "cell_type": "code",
   "execution_count": 50,
   "id": "114b6994-6161-4149-9da4-13037544955c",
   "metadata": {},
   "outputs": [],
   "source": [
    "accuracy = accuracy_score(Y_test, test_predictions)\n",
    "precision = precision_score(Y_test, test_predictions)\n",
    "recall = recall_score(Y_test, test_predictions)\n",
    "f1 = f1_score(Y_test, test_predictions)\n",
    "conf_matrix = confusion_matrix(Y_test, test_predictions)"
   ]
  },
  {
   "cell_type": "code",
   "execution_count": 52,
   "id": "787dcb89-a419-4f85-9797-6115c3f03392",
   "metadata": {},
   "outputs": [
    {
     "name": "stdout",
     "output_type": "stream",
     "text": [
      "Optimized Weights: [0.41184512 0.81045893 0.84312507 ... 0.47099147 0.97190118 0.25839024]\n",
      "Accuracy: 0.7883408071748879\n",
      "Precision: 0.8507751937984496\n",
      "Recall: 0.9145833333333333\n",
      "F1 Score: 0.8815261044176707\n",
      "Confusion Matrix:\n",
      " [[  1 154]\n",
      " [ 82 878]]\n"
     ]
    }
   ],
   "source": [
    "# Display results\n",
    "print(\"Optimized Weights:\", best_weights)\n",
    "print(\"Accuracy:\", accuracy)\n",
    "print(\"Precision:\", precision)\n",
    "print(\"Recall:\", recall)\n",
    "print(\"F1 Score:\", f1)\n",
    "print(\"Confusion Matrix:\\n\", conf_matrix)"
   ]
  },
  {
   "cell_type": "code",
   "execution_count": null,
   "id": "00365c97-0d3b-4872-a96f-5e7b4344281c",
   "metadata": {},
   "outputs": [],
   "source": []
  }
 ],
 "metadata": {
  "kernelspec": {
   "display_name": "Python [conda env:base] *",
   "language": "python",
   "name": "conda-base-py"
  },
  "language_info": {
   "codemirror_mode": {
    "name": "ipython",
    "version": 3
   },
   "file_extension": ".py",
   "mimetype": "text/x-python",
   "name": "python",
   "nbconvert_exporter": "python",
   "pygments_lexer": "ipython3",
   "version": "3.12.7"
  }
 },
 "nbformat": 4,
 "nbformat_minor": 5
}
