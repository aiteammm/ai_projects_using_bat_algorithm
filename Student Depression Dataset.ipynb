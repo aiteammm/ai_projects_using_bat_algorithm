{
 "cells": [
  {
   "cell_type": "code",
   "execution_count": 1,
   "metadata": {},
   "outputs": [],
   "source": [
    "import numpy as np\n",
    "import pandas as pd\n",
    "from sklearn.model_selection import train_test_split\n",
    "from sklearn.ensemble import RandomForestClassifier\n",
    "from sklearn.metrics import accuracy_score, precision_score, recall_score, f1_score"
   ]
  },
  {
   "cell_type": "code",
   "execution_count": 2,
   "metadata": {},
   "outputs": [
    {
     "name": "stdout",
     "output_type": "stream",
     "text": [
      "Dataset Columns: Index(['id', 'Gender', 'Age', 'City', 'Profession', 'Academic Pressure',\n",
      "       'Work Pressure', 'CGPA', 'Study Satisfaction', 'Job Satisfaction',\n",
      "       'Sleep Duration', 'Dietary Habits', 'Degree',\n",
      "       'Have you ever had suicidal thoughts ?', 'Work/Study Hours',\n",
      "       'Financial Stress', 'Family History of Mental Illness', 'Depression'],\n",
      "      dtype='object')\n"
     ]
    }
   ],
   "source": [
    "\n",
    "# Load Dataset\n",
    "data = pd.read_csv(\"Student Depression Dataset.csv\")\n",
    "print(\"Dataset Columns:\", data.columns)"
   ]
  },
  {
   "cell_type": "code",
   "execution_count": 3,
   "metadata": {},
   "outputs": [
    {
     "name": "stdout",
     "output_type": "stream",
     "text": [
      "Assuming target column: Depression\n"
     ]
    }
   ],
   "source": [
    "\n",
    "# Assuming the last column is the target\n",
    "target_column = \"Depression\"\n",
    "print(f\"Assuming target column: {target_column}\")"
   ]
  },
  {
   "cell_type": "code",
   "execution_count": 4,
   "metadata": {},
   "outputs": [],
   "source": [
    "\n",
    "# Encode categorical columns\n",
    "categorical_columns = data.select_dtypes(include=[\"object\"]).columns.tolist()\n",
    "if target_column in categorical_columns:\n",
    "    categorical_columns.remove(target_column)"
   ]
  },
  {
   "cell_type": "code",
   "execution_count": 5,
   "metadata": {},
   "outputs": [],
   "source": [
    "\n",
    "# One-hot encode categorical columns\n",
    "data = pd.get_dummies(data, columns=categorical_columns, drop_first=True)\n",
    "\n",
    "# Convert target column to numeric if necessary\n",
    "if data[target_column].dtype == \"object\":\n",
    "    data[target_column] = data[target_column].astype(\"category\").cat.codes\n"
   ]
  },
  {
   "cell_type": "code",
   "execution_count": 6,
   "metadata": {},
   "outputs": [],
   "source": [
    "\n",
    "# Features and Target\n",
    "X = data.drop(columns=[target_column])\n",
    "y = data[target_column]"
   ]
  },
  {
   "cell_type": "code",
   "execution_count": 7,
   "metadata": {},
   "outputs": [],
   "source": [
    "\n",
    "# Train-Test Split\n",
    "X_train, X_test, y_train, y_test = train_test_split(X, y, test_size=0.3, random_state=42)\n",
    "\n",
    "# Bat Algorithm Parameters\n",
    "num_bats = 10\n",
    "max_iter = 10\n",
    "loudness = 0.6\n",
    "pulse_rate = 0.5\n",
    "frequency_min, frequency_max = 0, 2"
   ]
  },
  {
   "cell_type": "code",
   "execution_count": 8,
   "metadata": {},
   "outputs": [],
   "source": [
    "\n",
    "# Fitness Function with Additional Metrics\n",
    "def fitness_function_with_metrics(solution):\n",
    "    selected_features = np.where(solution > 0.5)[0]\n",
    "    if len(selected_features) == 0:\n",
    "        return 0, 0, 0, 0  # Return 0 for accuracy, precision, recall, and F1 if no features are selected\n",
    "         # Train model on selected features\n",
    "    clf = RandomForestClassifier(random_state=42)\n",
    "    clf.fit(X_train.iloc[:, selected_features], y_train)\n",
    "    preds = clf.predict(X_test.iloc[:, selected_features])\n",
    "    \n",
    "    # Calculate metrics\n",
    "    accuracy = accuracy_score(y_test, preds)\n",
    "    precision = precision_score(y_test, preds, average=\"weighted\", zero_division=0)\n",
    "    recall = recall_score(y_test, preds, average=\"weighted\", zero_division=0)\n",
    "    f1 = f1_score(y_test, preds, average=\"weighted\", zero_division=0)\n",
    "\n",
    "    return accuracy, precision, recall, f1\n"
   ]
  },
  {
   "cell_type": "code",
   "execution_count": 9,
   "metadata": {},
   "outputs": [],
   "source": [
    "\n",
    "   \n",
    "# Initialize bats\n",
    "positions = np.random.rand(num_bats, X.shape[1])  # Random positions in [0,1]\n",
    "velocities = np.random.uniform(-1, 1, (num_bats, X.shape[1]))  # Random velocities\n",
    "best_global = positions[np.random.randint(0, num_bats)]  # Randomly select a bat\n",
    "best_global_accuracy, best_global_precision, best_global_recall, best_global_f1 = fitness_function_with_metrics(best_global)\n",
    "\n"
   ]
  },
  {
   "cell_type": "code",
   "execution_count": 10,
   "metadata": {},
   "outputs": [
    {
     "name": "stdout",
     "output_type": "stream",
     "text": [
      "Iteration 1:\n",
      "Best Accuracy = 0.7772\n",
      "Best Precision = 0.7760\n",
      "Best Recall = 0.7772\n",
      "Best F1 Score = 0.7759\n",
      "Selected Features: ['Age', 'CGPA', 'Work/Study Hours', 'Gender_Male', 'City_Ahmedabad', 'City_Chennai', 'City_City', 'City_Faridabad', 'City_Gaurav', 'City_Harsha', 'City_Hyderabad', 'City_Kalyan', 'City_Khaziabad', 'City_Kolkata', 'City_Less Delhi', 'City_Less than 5 Kalyan', 'City_M.Tech', 'City_ME', 'City_Mihir', 'City_Mira', 'City_Mumbai', 'City_Rajkot', 'City_Saanvi', 'City_Vaanya', 'City_Varanasi', 'Profession_Chef', 'Profession_Content Writer', 'Profession_Lawyer', 'Profession_Manager', 'Profession_Student', 'Sleep Duration_7-8 hours', 'Sleep Duration_Less than 5 hours', 'Sleep Duration_Others', 'Dietary Habits_Others', 'Dietary Habits_Unhealthy', 'Degree_B.Tech', 'Degree_BA', 'Degree_Class 12', 'Degree_LLB', 'Degree_M.Ed', 'Degree_M.Pharm', 'Degree_MA', 'Degree_MBBS', 'Degree_MCA', 'Degree_MD', 'Degree_ME', 'Degree_Others', 'Degree_PhD', 'Have you ever had suicidal thoughts ?_Yes']\n",
      "\n",
      "Iteration 2:\n",
      "Best Accuracy = 0.7772\n",
      "Best Precision = 0.7760\n",
      "Best Recall = 0.7772\n",
      "Best F1 Score = 0.7759\n",
      "Selected Features: ['Age', 'CGPA', 'Work/Study Hours', 'Gender_Male', 'City_Ahmedabad', 'City_Chennai', 'City_Faridabad', 'City_Gaurav', 'City_Harsha', 'City_Hyderabad', 'City_Kalyan', 'City_Khaziabad', 'City_Kolkata', 'City_Less Delhi', 'City_Less than 5 Kalyan', 'City_M.Tech', 'City_ME', 'City_Mihir', 'City_Mira', 'City_Mumbai', 'City_Patna', 'City_Rajkot', 'City_Saanvi', 'City_Vaanya', 'City_Varanasi', 'Profession_Chef', 'Profession_Content Writer', 'Profession_Lawyer', 'Profession_Manager', 'Profession_Student', 'Sleep Duration_7-8 hours', 'Sleep Duration_Less than 5 hours', 'Dietary Habits_Others', 'Dietary Habits_Unhealthy', 'Degree_B.Pharm', 'Degree_B.Tech', 'Degree_BA', 'Degree_BSc', 'Degree_Class 12', 'Degree_LLB', 'Degree_M.Ed', 'Degree_MA', 'Degree_MBBS', 'Degree_MCA', 'Degree_MD', 'Degree_Others', 'Degree_PhD', 'Have you ever had suicidal thoughts ?_Yes']\n",
      "\n",
      "Iteration 3:\n",
      "Best Accuracy = 0.8018\n",
      "Best Precision = 0.8012\n",
      "Best Recall = 0.8018\n",
      "Best F1 Score = 0.8014\n",
      "Selected Features: ['Age', 'Academic Pressure', 'Work/Study Hours', 'Gender_Male', 'City_Ahmedabad', 'City_Bhavna', 'City_Chennai', 'City_Faridabad', 'City_Harsha', 'City_Hyderabad', 'City_Kalyan', 'City_Khaziabad', 'City_M.Tech', 'City_ME', 'City_Mihir', 'City_Mira', 'City_Mumbai', 'City_Nalini', 'City_Rajkot', 'City_Rashi', 'City_Saanvi', 'City_Surat', 'City_Vaanya', 'City_Varanasi', 'Profession_Chef', 'Profession_Lawyer', 'Profession_Manager', 'Profession_Pharmacist', 'Profession_Student', 'Sleep Duration_7-8 hours', 'Sleep Duration_More than 8 hours', 'Dietary Habits_Moderate', 'Dietary Habits_Unhealthy', 'Degree_B.Com', 'Degree_BA', 'Degree_BBA', 'Degree_Class 12', 'Degree_LLB', 'Degree_M.Pharm', 'Degree_M.Tech', 'Degree_MA', 'Degree_MBBS', 'Degree_MCA', 'Degree_MD', 'Degree_Others', 'Degree_PhD', 'Have you ever had suicidal thoughts ?_Yes', 'Family History of Mental Illness_Yes']\n",
      "\n",
      "Iteration 4:\n",
      "Best Accuracy = 0.8036\n",
      "Best Precision = 0.8030\n",
      "Best Recall = 0.8036\n",
      "Best F1 Score = 0.8032\n",
      "Selected Features: ['Age', 'Academic Pressure', 'Work/Study Hours', 'Gender_Male', 'City_Agra', 'City_Ahmedabad', 'City_Bhavna', 'City_Chennai', 'City_Faridabad', 'City_Harsha', 'City_Hyderabad', 'City_Kalyan', 'City_Khaziabad', 'City_M.Tech', 'City_ME', 'City_Mihir', 'City_Mira', 'City_Mumbai', 'City_Nalini', 'City_Rajkot', 'City_Saanvi', 'City_Surat', 'City_Vaanya', 'City_Varanasi', 'Profession_Chef', 'Profession_Lawyer', 'Profession_Manager', 'Profession_Pharmacist', 'Profession_Student', 'Sleep Duration_7-8 hours', 'Sleep Duration_More than 8 hours', 'Dietary Habits_Moderate', 'Dietary Habits_Unhealthy', 'Degree_B.Com', 'Degree_BA', 'Degree_BBA', 'Degree_Class 12', 'Degree_LLB', 'Degree_M.Pharm', 'Degree_M.Tech', 'Degree_MA', 'Degree_MBBS', 'Degree_MCA', 'Degree_MD', 'Degree_Others', 'Degree_PhD', 'Have you ever had suicidal thoughts ?_Yes', 'Family History of Mental Illness_Yes']\n",
      "\n",
      "Iteration 5:\n",
      "Best Accuracy = 0.8036\n",
      "Best Precision = 0.8030\n",
      "Best Recall = 0.8036\n",
      "Best F1 Score = 0.8032\n",
      "Selected Features: ['Age', 'CGPA', 'Study Satisfaction', 'Work/Study Hours', 'Gender_Male', 'City_Ahmedabad', 'City_Chennai', 'City_Faridabad', 'City_Gaurav', 'City_Harsha', 'City_Kalyan', 'City_Khaziabad', 'City_Less Delhi', 'City_Less than 5 Kalyan', 'City_M.Tech', 'City_ME', 'City_Mihir', 'City_Mira', 'City_Mumbai', 'City_Patna', 'City_Saanvi', 'City_Vaanya', 'City_Varanasi', 'Profession_Chef', 'Profession_Content Writer', 'Profession_Digital Marketer', 'Profession_Lawyer', 'Profession_Manager', 'Profession_Student', 'Sleep Duration_7-8 hours', 'Sleep Duration_Less than 5 hours', 'Dietary Habits_Others', 'Dietary Habits_Unhealthy', 'Degree_B.Pharm', 'Degree_B.Tech', 'Degree_BA', 'Degree_BSc', 'Degree_Class 12', 'Degree_LLB', 'Degree_M.Ed', 'Degree_MA', 'Degree_MBBS', 'Degree_MCA', 'Degree_MD', 'Degree_Others', 'Degree_PhD', 'Have you ever had suicidal thoughts ?_Yes']\n",
      "\n",
      "Iteration 6:\n",
      "Best Accuracy = 0.8053\n",
      "Best Precision = 0.8047\n",
      "Best Recall = 0.8053\n",
      "Best F1 Score = 0.8049\n",
      "Selected Features: ['Age', 'Academic Pressure', 'Work/Study Hours', 'Gender_Male', 'City_Agra', 'City_Ahmedabad', 'City_Bhavna', 'City_Chennai', 'City_Faridabad', 'City_Harsha', 'City_Hyderabad', 'City_Kalyan', 'City_Khaziabad', 'City_M.Tech', 'City_ME', 'City_Mihir', 'City_Mira', 'City_Mumbai', 'City_Nalini', 'City_Rajkot', 'City_Rashi', 'City_Surat', 'City_Vaanya', 'Profession_Educational Consultant', 'Profession_Lawyer', 'Profession_Manager', 'Profession_Pharmacist', 'Profession_Student', 'Sleep Duration_7-8 hours', 'Sleep Duration_More than 8 hours', 'Dietary Habits_Moderate', 'Dietary Habits_Unhealthy', 'Degree_B.Com', 'Degree_BA', 'Degree_BBA', 'Degree_Class 12', 'Degree_LLB', 'Degree_M.Pharm', 'Degree_M.Tech', 'Degree_MA', 'Degree_MBBS', 'Degree_MCA', 'Degree_MD', 'Degree_Others', 'Degree_PhD', 'Have you ever had suicidal thoughts ?_Yes', 'Family History of Mental Illness_Yes']\n",
      "\n",
      "Iteration 7:\n",
      "Best Accuracy = 0.8053\n",
      "Best Precision = 0.8047\n",
      "Best Recall = 0.8053\n",
      "Best F1 Score = 0.8049\n",
      "Selected Features: ['Age', 'Academic Pressure', 'Work/Study Hours', 'Gender_Male', 'City_Agra', 'City_Ahmedabad', 'City_Bhavna', 'City_Chennai', 'City_Faridabad', 'City_Harsha', 'City_Hyderabad', 'City_Kalyan', 'City_Khaziabad', 'City_M.Tech', 'City_ME', 'City_Mihir', 'City_Mira', 'City_Mumbai', 'City_Nalini', 'City_Rajkot', 'City_Rashi', 'City_Surat', 'City_Vaanya', 'Profession_Educational Consultant', 'Profession_Lawyer', 'Profession_Manager', 'Profession_Pharmacist', 'Profession_Student', 'Sleep Duration_7-8 hours', 'Sleep Duration_More than 8 hours', 'Sleep Duration_Others', 'Dietary Habits_Moderate', 'Dietary Habits_Unhealthy', 'Degree_B.Com', 'Degree_BA', 'Degree_BBA', 'Degree_Class 12', 'Degree_LLB', 'Degree_M.Pharm', 'Degree_M.Tech', 'Degree_MA', 'Degree_MBBS', 'Degree_MCA', 'Degree_MD', 'Degree_Others', 'Degree_PhD', 'Have you ever had suicidal thoughts ?_Yes', 'Family History of Mental Illness_Yes']\n",
      "\n",
      "Iteration 8:\n",
      "Best Accuracy = 0.8053\n",
      "Best Precision = 0.8047\n",
      "Best Recall = 0.8053\n",
      "Best F1 Score = 0.8049\n",
      "Selected Features: ['Age', 'Academic Pressure', 'Work/Study Hours', 'Gender_Male', 'City_Agra', 'City_Ahmedabad', 'City_Bhavna', 'City_Chennai', 'City_Faridabad', 'City_Harsha', 'City_Hyderabad', 'City_Kalyan', 'City_Khaziabad', 'City_M.Tech', 'City_ME', 'City_Mihir', 'City_Mira', 'City_Mumbai', 'City_Nalini', 'City_Rajkot', 'City_Rashi', 'City_Surat', 'City_Vaanya', 'Profession_Educational Consultant', 'Profession_Lawyer', 'Profession_Manager', 'Profession_Pharmacist', 'Profession_Student', 'Sleep Duration_7-8 hours', 'Sleep Duration_More than 8 hours', 'Sleep Duration_Others', 'Dietary Habits_Moderate', 'Dietary Habits_Unhealthy', 'Degree_B.Com', 'Degree_BA', 'Degree_BBA', 'Degree_Class 12', 'Degree_LLB', 'Degree_M.Pharm', 'Degree_M.Tech', 'Degree_MA', 'Degree_MBBS', 'Degree_MCA', 'Degree_MD', 'Degree_Others', 'Degree_PhD', 'Have you ever had suicidal thoughts ?_Yes', 'Family History of Mental Illness_Yes']\n",
      "\n",
      "Iteration 9:\n",
      "Best Accuracy = 0.8053\n",
      "Best Precision = 0.8047\n",
      "Best Recall = 0.8053\n",
      "Best F1 Score = 0.8049\n",
      "Selected Features: ['Age', 'Academic Pressure', 'Work/Study Hours', 'Gender_Male', 'City_Agra', 'City_Ahmedabad', 'City_Bhavna', 'City_Chennai', 'City_Faridabad', 'City_Harsha', 'City_Hyderabad', 'City_Kalyan', 'City_Khaziabad', 'City_M.Tech', 'City_ME', 'City_Mihir', 'City_Mira', 'City_Mumbai', 'City_Nalini', 'City_Rajkot', 'City_Rashi', 'City_Surat', 'City_Vaanya', 'Profession_Educational Consultant', 'Profession_Lawyer', 'Profession_Manager', 'Profession_Pharmacist', 'Profession_Student', 'Sleep Duration_7-8 hours', 'Sleep Duration_More than 8 hours', 'Sleep Duration_Others', 'Dietary Habits_Moderate', 'Dietary Habits_Unhealthy', 'Degree_B.Com', 'Degree_BA', 'Degree_BBA', 'Degree_Class 12', 'Degree_LLB', 'Degree_M.Pharm', 'Degree_M.Tech', 'Degree_MA', 'Degree_MBBS', 'Degree_MCA', 'Degree_MD', 'Degree_Others', 'Degree_PhD', 'Have you ever had suicidal thoughts ?_Yes', 'Family History of Mental Illness_Yes']\n",
      "\n",
      "Iteration 10:\n",
      "Best Accuracy = 0.8053\n",
      "Best Precision = 0.8047\n",
      "Best Recall = 0.8053\n",
      "Best F1 Score = 0.8049\n",
      "Selected Features: ['Age', 'Academic Pressure', 'Work/Study Hours', 'Gender_Male', 'City_Agra', 'City_Ahmedabad', 'City_Bhavna', 'City_Chennai', 'City_Faridabad', 'City_Harsha', 'City_Hyderabad', 'City_Kalyan', 'City_Khaziabad', 'City_M.Tech', 'City_ME', 'City_Mihir', 'City_Mira', 'City_Mumbai', 'City_Nalini', 'City_Rajkot', 'City_Rashi', 'City_Surat', 'City_Vaanya', 'Profession_Educational Consultant', 'Profession_Lawyer', 'Profession_Manager', 'Profession_Pharmacist', 'Profession_Student', 'Sleep Duration_7-8 hours', 'Sleep Duration_More than 8 hours', 'Sleep Duration_Others', 'Dietary Habits_Moderate', 'Dietary Habits_Unhealthy', 'Degree_B.Com', 'Degree_BA', 'Degree_BBA', 'Degree_Class 12', 'Degree_LLB', 'Degree_M.Pharm', 'Degree_M.Tech', 'Degree_MA', 'Degree_MBBS', 'Degree_MCA', 'Degree_MD', 'Degree_Others', 'Degree_PhD', 'Have you ever had suicidal thoughts ?_Yes', 'Family History of Mental Illness_Yes']\n",
      "\n"
     ]
    }
   ],
   "source": [
    "\n",
    "# Bat Algorithm\n",
    "for t in range(max_iter):\n",
    "    for i in range(num_bats):\n",
    "        # Calculate frequency and update velocity and position\n",
    "        frequency = frequency_min + (frequency_max - frequency_min) * np.random.rand()\n",
    "        velocities[i] += (positions[i] - best_global) * frequency\n",
    "        positions[i] = np.clip(positions[i] + velocities[i], 0, 1)  # Ensure positions stay in range\n",
    "         # Local search\n",
    "        if np.random.rand() > pulse_rate:\n",
    "            positions[i] = np.clip(best_global + np.random.normal(0, 0.1, size=X.shape[1]), 0, 1)\n",
    "\n",
    "        # Evaluate fitness\n",
    "        accuracy, precision, recall, f1 = fitness_function_with_metrics(positions[i])\n",
    "        if accuracy > best_global_accuracy and np.random.rand() < loudness:\n",
    "            best_global = positions[i]\n",
    "            best_global_accuracy, best_global_precision, best_global_recall, best_global_f1 = accuracy, precision, recall, f1\n",
    "\n",
    "    # Update loudness and pulse rate\n",
    "    loudness = max(0.1, loudness * 0.95)\n",
    "    pulse_rate = min(1.0, pulse_rate * 1.05)\n",
    "    # Print progress\n",
    "    print(f\"Iteration {t + 1}:\")\n",
    "    print(f\"Best Accuracy = {best_global_accuracy:.4f}\")\n",
    "    print(f\"Best Precision = {best_global_precision:.4f}\")\n",
    "    print(f\"Best Recall = {best_global_recall:.4f}\")\n",
    "    print(f\"Best F1 Score = {best_global_f1:.4f}\")\n",
    "    selected_features = np.where(best_global > 0.5)[0]\n",
    "    print(\"Selected Features:\", X.columns[selected_features].tolist())\n",
    "    print()"
   ]
  },
  {
   "cell_type": "code",
   "execution_count": 11,
   "metadata": {},
   "outputs": [
    {
     "name": "stdout",
     "output_type": "stream",
     "text": [
      "Final Results:\n",
      "Best Accuracy: 0.8053\n",
      "Best Precision: 0.8047\n",
      "Best Recall: 0.8053\n",
      "Best F1 Score: 0.8049\n",
      "Selected Features: ['Age', 'Academic Pressure', 'Work/Study Hours', 'Gender_Male', 'City_Agra', 'City_Ahmedabad', 'City_Bhavna', 'City_Chennai', 'City_Faridabad', 'City_Harsha', 'City_Hyderabad', 'City_Kalyan', 'City_Khaziabad', 'City_M.Tech', 'City_ME', 'City_Mihir', 'City_Mira', 'City_Mumbai', 'City_Nalini', 'City_Rajkot', 'City_Rashi', 'City_Surat', 'City_Vaanya', 'Profession_Educational Consultant', 'Profession_Lawyer', 'Profession_Manager', 'Profession_Pharmacist', 'Profession_Student', 'Sleep Duration_7-8 hours', 'Sleep Duration_More than 8 hours', 'Sleep Duration_Others', 'Dietary Habits_Moderate', 'Dietary Habits_Unhealthy', 'Degree_B.Com', 'Degree_BA', 'Degree_BBA', 'Degree_Class 12', 'Degree_LLB', 'Degree_M.Pharm', 'Degree_M.Tech', 'Degree_MA', 'Degree_MBBS', 'Degree_MCA', 'Degree_MD', 'Degree_Others', 'Degree_PhD', 'Have you ever had suicidal thoughts ?_Yes', 'Family History of Mental Illness_Yes']\n"
     ]
    }
   ],
   "source": [
    "\n",
    "# Final Results\n",
    "print(\"Final Results:\")\n",
    "print(f\"Best Accuracy: {best_global_accuracy:.4f}\")\n",
    "print(f\"Best Precision: {best_global_precision:.4f}\")\n",
    "print(f\"Best Recall: {best_global_recall:.4f}\")\n",
    "print(f\"Best F1 Score: {best_global_f1:.4f}\")\n",
    "print(\"Selected Features:\", X.columns[selected_features].tolist())\n"
   ]
  }
 ],
 "metadata": {
  "colab": {
   "provenance": []
  },
  "kernelspec": {
   "display_name": "Python 3",
   "name": "python3"
  },
  "language_info": {
   "codemirror_mode": {
    "name": "ipython",
    "version": 3
   },
   "file_extension": ".py",
   "mimetype": "text/x-python",
   "name": "python",
   "nbconvert_exporter": "python",
   "pygments_lexer": "ipython3",
   "version": "3.13.1"
  }
 },
 "nbformat": 4,
 "nbformat_minor": 0
}
