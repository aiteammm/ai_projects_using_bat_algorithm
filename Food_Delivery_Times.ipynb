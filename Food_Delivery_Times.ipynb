{
 "cells": [
  {
   "cell_type": "code",
   "execution_count": 2,
   "metadata": {},
   "outputs": [],
   "source": [
    "import numpy as np\n",
    "import pandas as pd\n",
    "from sklearn.model_selection import train_test_split\n",
    "from sklearn.ensemble import RandomForestRegressor\n",
    "from sklearn.metrics import r2_score, mean_absolute_error, mean_squared_error, accuracy_score, precision_score, recall_score, f1_score\n"
   ]
  },
  {
   "cell_type": "code",
   "execution_count": 3,
   "metadata": {},
   "outputs": [],
   "source": [
    "\n",
    "# Load and preprocess dataset\n",
    "data = pd.read_csv('Food_Delivery_Times.csv')\n"
   ]
  },
  {
   "cell_type": "code",
   "execution_count": 4,
   "metadata": {},
   "outputs": [
    {
     "name": "stderr",
     "output_type": "stream",
     "text": [
      "C:\\Users\\Administrator\\AppData\\Local\\Temp\\ipykernel_5288\\281867332.py:3: FutureWarning: DataFrame.fillna with 'method' is deprecated and will raise in a future version. Use obj.ffill() or obj.bfill() instead.\n",
      "  data = data.fillna(method='ffill')\n"
     ]
    }
   ],
   "source": [
    "\n",
    "# Drop rows with missing target and fill other missing values\n",
    "data = data.dropna(subset=['Delivery_Time_min'])\n",
    "data = data.fillna(method='ffill')\n"
   ]
  },
  {
   "cell_type": "code",
   "execution_count": 5,
   "metadata": {},
   "outputs": [],
   "source": [
    "\n",
    "# Encode categorical features\n",
    "categorical_cols = ['Weather', 'Traffic_Level', 'Time_of_Day', 'Vehicle_Type']\n",
    "data = pd.get_dummies(data, columns=categorical_cols, drop_first=True)\n"
   ]
  },
  {
   "cell_type": "code",
   "execution_count": 6,
   "metadata": {},
   "outputs": [],
   "source": [
    "\n",
    "# Features and Target\n",
    "X = data.drop(columns=['Order_ID', 'Delivery_Time_min'])\n",
    "y = data['Delivery_Time_min']\n"
   ]
  },
  {
   "cell_type": "code",
   "execution_count": 7,
   "metadata": {},
   "outputs": [],
   "source": [
    "\n",
    "# Binarize target for classification purposes\n",
    "y_binary = (y > y.median()).astype(int)\n"
   ]
  },
  {
   "cell_type": "code",
   "execution_count": 8,
   "metadata": {},
   "outputs": [],
   "source": [
    "# Train-Test Split\n",
    "X_train, X_test, y_train, y_test = train_test_split(X, y_binary, test_size=0.3, random_state=42)\n"
   ]
  },
  {
   "cell_type": "code",
   "execution_count": 9,
   "metadata": {},
   "outputs": [],
   "source": [
    "# Bat Algorithm Parameters\n",
    "num_bats = 10\n",
    "max_iter = 10\n",
    "loudness = 0.6\n",
    "pulse_rate = 0.5\n",
    "frequency_min, frequency_max = 0, 2"
   ]
  },
  {
   "cell_type": "code",
   "execution_count": 10,
   "metadata": {},
   "outputs": [],
   "source": [
    "# Fitness Function\n",
    "def fitness_function(solution):\n",
    "    selected_features = np.where(solution > 0.5)[0]\n",
    "    if len(selected_features) == 0:\n",
    "        return 0, 0, 0, 0  # Return 0 for accuracy, precision, recall, and F1 if no features are selected\n",
    "\n",
    "    # Train model on selected features\n",
    "    model = RandomForestRegressor(random_state=42)\n",
    "    model.fit(X_train.iloc[:, selected_features], y_train)\n",
    "    preds = model.predict(X_test.iloc[:, selected_features])\n",
    "    preds_binary = (preds > 0.5).astype(int)\n",
    "\n",
    "    # Calculate metrics\n",
    "    accuracy = accuracy_score(y_test, preds_binary)\n",
    "    precision = precision_score(y_test, preds_binary)\n",
    "    recall = recall_score(y_test, preds_binary)\n",
    "    f1 = f1_score(y_test, preds_binary)\n",
    "\n",
    "    return accuracy, precision, recall, f1\n"
   ]
  },
  {
   "cell_type": "code",
   "execution_count": 11,
   "metadata": {},
   "outputs": [],
   "source": [
    "# Initialize bats\n",
    "positions = np.random.rand(num_bats, X.shape[1])  # Random positions in [0,1]\n",
    "velocities = np.random.uniform(-1, 1, (num_bats, X.shape[1]))  # Random velocities\n",
    "best_global = positions[np.random.randint(0, num_bats)]  # Randomly select a bat\n",
    "best_global_accuracy, best_global_precision, best_global_recall, best_global_f1 = fitness_function(best_global)\n"
   ]
  },
  {
   "cell_type": "code",
   "execution_count": 12,
   "metadata": {},
   "outputs": [
    {
     "name": "stdout",
     "output_type": "stream",
     "text": [
      "Iteration 1:\n",
      "   Best Accuracy = 0.8733\n",
      "   Best Precision = 0.8786\n",
      "   Best Recall = 0.8542\n",
      "   Best F1 Score = 0.8662\n",
      "   Selected Features: ['Distance_km', 'Preparation_Time_min', 'Courier_Experience_yrs', 'Weather_Snowy', 'Traffic_Level_Medium', 'Time_of_Day_Evening', 'Time_of_Day_Morning']\n",
      "\n",
      "Iteration 2:\n",
      "   Best Accuracy = 0.8733\n",
      "   Best Precision = 0.8786\n",
      "   Best Recall = 0.8542\n",
      "   Best F1 Score = 0.8662\n",
      "   Selected Features: ['Distance_km', 'Preparation_Time_min', 'Courier_Experience_yrs', 'Weather_Snowy', 'Traffic_Level_Medium', 'Time_of_Day_Evening', 'Time_of_Day_Morning', 'Time_of_Day_Night']\n",
      "\n",
      "Iteration 3:\n",
      "   Best Accuracy = 0.8767\n",
      "   Best Precision = 0.8849\n",
      "   Best Recall = 0.8542\n",
      "   Best F1 Score = 0.8693\n",
      "   Selected Features: ['Distance_km', 'Preparation_Time_min', 'Courier_Experience_yrs', 'Weather_Foggy', 'Weather_Windy', 'Traffic_Level_Medium', 'Time_of_Day_Evening', 'Time_of_Day_Morning', 'Time_of_Day_Night', 'Vehicle_Type_Scooter']\n",
      "\n",
      "Iteration 4:\n",
      "   Best Accuracy = 0.8767\n",
      "   Best Precision = 0.8849\n",
      "   Best Recall = 0.8542\n",
      "   Best F1 Score = 0.8693\n",
      "   Selected Features: ['Distance_km', 'Preparation_Time_min', 'Courier_Experience_yrs', 'Weather_Foggy', 'Weather_Windy', 'Traffic_Level_Medium', 'Time_of_Day_Evening', 'Time_of_Day_Morning', 'Time_of_Day_Night', 'Vehicle_Type_Car', 'Vehicle_Type_Scooter']\n",
      "\n",
      "Iteration 5:\n",
      "   Best Accuracy = 0.8767\n",
      "   Best Precision = 0.8849\n",
      "   Best Recall = 0.8542\n",
      "   Best F1 Score = 0.8693\n",
      "   Selected Features: ['Distance_km', 'Preparation_Time_min', 'Courier_Experience_yrs', 'Weather_Foggy', 'Weather_Windy', 'Traffic_Level_Medium', 'Time_of_Day_Evening', 'Time_of_Day_Morning', 'Time_of_Day_Night', 'Vehicle_Type_Car', 'Vehicle_Type_Scooter']\n",
      "\n",
      "Iteration 6:\n",
      "   Best Accuracy = 0.8767\n",
      "   Best Precision = 0.8849\n",
      "   Best Recall = 0.8542\n",
      "   Best F1 Score = 0.8693\n",
      "   Selected Features: ['Distance_km', 'Preparation_Time_min', 'Courier_Experience_yrs', 'Weather_Foggy', 'Weather_Windy', 'Traffic_Level_Medium', 'Time_of_Day_Evening', 'Time_of_Day_Morning', 'Time_of_Day_Night', 'Vehicle_Type_Car', 'Vehicle_Type_Scooter']\n",
      "\n",
      "Iteration 7:\n",
      "   Best Accuracy = 0.8767\n",
      "   Best Precision = 0.8849\n",
      "   Best Recall = 0.8542\n",
      "   Best F1 Score = 0.8693\n",
      "   Selected Features: ['Distance_km', 'Preparation_Time_min', 'Courier_Experience_yrs', 'Weather_Foggy', 'Weather_Windy', 'Traffic_Level_Medium', 'Time_of_Day_Evening', 'Time_of_Day_Morning', 'Time_of_Day_Night', 'Vehicle_Type_Car', 'Vehicle_Type_Scooter']\n",
      "\n",
      "Iteration 8:\n",
      "   Best Accuracy = 0.8767\n",
      "   Best Precision = 0.8849\n",
      "   Best Recall = 0.8542\n",
      "   Best F1 Score = 0.8693\n",
      "   Selected Features: ['Distance_km', 'Preparation_Time_min', 'Courier_Experience_yrs', 'Weather_Foggy', 'Weather_Windy', 'Traffic_Level_Medium', 'Time_of_Day_Evening', 'Time_of_Day_Morning', 'Time_of_Day_Night', 'Vehicle_Type_Car', 'Vehicle_Type_Scooter']\n",
      "\n",
      "Iteration 9:\n",
      "   Best Accuracy = 0.8767\n",
      "   Best Precision = 0.8849\n",
      "   Best Recall = 0.8542\n",
      "   Best F1 Score = 0.8693\n",
      "   Selected Features: ['Distance_km', 'Preparation_Time_min', 'Courier_Experience_yrs', 'Weather_Foggy', 'Weather_Windy', 'Traffic_Level_Medium', 'Time_of_Day_Evening', 'Time_of_Day_Morning', 'Time_of_Day_Night', 'Vehicle_Type_Car', 'Vehicle_Type_Scooter']\n",
      "\n",
      "Iteration 10:\n",
      "   Best Accuracy = 0.8767\n",
      "   Best Precision = 0.8849\n",
      "   Best Recall = 0.8542\n",
      "   Best F1 Score = 0.8693\n",
      "   Selected Features: ['Distance_km', 'Preparation_Time_min', 'Courier_Experience_yrs', 'Weather_Foggy', 'Weather_Windy', 'Traffic_Level_Medium', 'Time_of_Day_Evening', 'Time_of_Day_Morning', 'Time_of_Day_Night', 'Vehicle_Type_Car', 'Vehicle_Type_Scooter']\n",
      "\n"
     ]
    }
   ],
   "source": [
    "# Bat Algorithm\n",
    "for t in range(max_iter):\n",
    "    for i in range(num_bats):\n",
    "        # Calculate frequency and update velocity and position\n",
    "        frequency = frequency_min + (frequency_max - frequency_min) * np.random.rand()\n",
    "        velocities[i] += (positions[i] - best_global) * frequency\n",
    "        positions[i] = np.clip(positions[i] + velocities[i], 0, 1)  # Ensure positions stay in range\n",
    "\n",
    "        # Local search\n",
    "        if np.random.rand() > pulse_rate:\n",
    "            positions[i] = np.clip(best_global + np.random.normal(0, 0.1, size=X.shape[1]), 0, 1)\n",
    "\n",
    "        # Evaluate fitness\n",
    "        accuracy, precision, recall, f1 = fitness_function(positions[i])\n",
    "        if accuracy > best_global_accuracy and np.random.rand() < loudness:\n",
    "            best_global = positions[i]\n",
    "            best_global_accuracy, best_global_precision, best_global_recall, best_global_f1 = accuracy, precision, recall, f1\n",
    "\n",
    "    # Update loudness and pulse rate\n",
    "    loudness = max(0.1, loudness * 0.95)\n",
    "    pulse_rate = min(1.0, pulse_rate * 1.05)\n",
    "\n",
    "    # Print progress\n",
    "    print(f\"Iteration {t + 1}:\")\n",
    "    print(f\"   Best Accuracy = {best_global_accuracy:.4f}\")\n",
    "    print(f\"   Best Precision = {best_global_precision:.4f}\")\n",
    "    print(f\"   Best Recall = {best_global_recall:.4f}\")\n",
    "    print(f\"   Best F1 Score = {best_global_f1:.4f}\")\n",
    "    selected_features = np.where(best_global > 0.5)[0]\n",
    "    print(\"   Selected Features:\", X.columns[selected_features].tolist())\n",
    "    print()\n",
    "\n"
   ]
  },
  {
   "cell_type": "code",
   "execution_count": 13,
   "metadata": {
    "colab": {
     "base_uri": "https://localhost:8080/"
    },
    "id": "0dEKdoqZWJqH",
    "outputId": "b0473ec8-3126-417d-96e6-64b838f5c247"
   },
   "outputs": [
    {
     "name": "stdout",
     "output_type": "stream",
     "text": [
      "Final Results:\n",
      "Best Accuracy: 0.8767\n",
      "Best Precision: 0.8849\n",
      "Best Recall: 0.8542\n",
      "Best F1 Score: 0.8693\n",
      "Selected Features: ['Distance_km', 'Preparation_Time_min', 'Courier_Experience_yrs', 'Weather_Foggy', 'Weather_Windy', 'Traffic_Level_Medium', 'Time_of_Day_Evening', 'Time_of_Day_Morning', 'Time_of_Day_Night', 'Vehicle_Type_Car', 'Vehicle_Type_Scooter']\n"
     ]
    }
   ],
   "source": [
    "\n",
    "\n",
    "# Final Results\n",
    "print(\"Final Results:\")\n",
    "print(f\"Best Accuracy: {best_global_accuracy:.4f}\")\n",
    "print(f\"Best Precision: {best_global_precision:.4f}\")\n",
    "print(f\"Best Recall: {best_global_recall:.4f}\")\n",
    "print(f\"Best F1 Score: {best_global_f1:.4f}\")\n",
    "selected_features = np.where(best_global > 0.5)[0]\n",
    "print(\"Selected Features:\", X.columns[selected_features].tolist())\n"
   ]
  }
 ],
 "metadata": {
  "colab": {
   "provenance": []
  },
  "kernelspec": {
   "display_name": "Python 3",
   "name": "python3"
  },
  "language_info": {
   "codemirror_mode": {
    "name": "ipython",
    "version": 3
   },
   "file_extension": ".py",
   "mimetype": "text/x-python",
   "name": "python",
   "nbconvert_exporter": "python",
   "pygments_lexer": "ipython3",
   "version": "3.13.1"
  }
 },
 "nbformat": 4,
 "nbformat_minor": 0
}
