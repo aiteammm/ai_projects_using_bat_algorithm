{
 "cells": [
  {
   "cell_type": "code",
   "execution_count": 1,
   "metadata": {},
   "outputs": [],
   "source": [
    "import numpy as np\n",
    "import pandas as pd\n",
    "from sklearn.model_selection import train_test_split\n",
    "from sklearn.preprocessing import StandardScaler\n",
    "from sklearn.ensemble import RandomForestClassifier\n",
    "from sklearn.metrics import accuracy_score, precision_score, recall_score, f1_score\n"
   ]
  },
  {
   "cell_type": "code",
   "execution_count": 2,
   "metadata": {},
   "outputs": [
    {
     "name": "stdout",
     "output_type": "stream",
     "text": [
      "           Title     Type     Genre  Release Year Rating   Duration  \\\n",
      "0        Title 1  TV Show    Comedy          1955     PG  3 Seasons   \n",
      "1        Title 2  TV Show    Horror          2020      G  3 Seasons   \n",
      "2        Title 3  TV Show    Action          1966  TV-PG    140 min   \n",
      "3        Title 4    Movie  Thriller          2011  PG-13  3 Seasons   \n",
      "4        Title 5  TV Show   Romance          1959  TV-14    172 min   \n",
      "...          ...      ...       ...           ...    ...        ...   \n",
      "2995  Title 2996    Movie  Thriller          2007  TV-PG     75 min   \n",
      "2996  Title 2997    Movie     Drama          2019      G  2 Seasons   \n",
      "2997  Title 2998  TV Show    Action          1993      R  3 Seasons   \n",
      "2998  Title 2999    Movie     Drama          1966  PG-13  1 Seasons   \n",
      "2999  Title 3000  TV Show  Thriller          2015     PG  2 Seasons   \n",
      "\n",
      "            Country  \n",
      "0             Japan  \n",
      "1             India  \n",
      "2     United States  \n",
      "3            Canada  \n",
      "4             India  \n",
      "...             ...  \n",
      "2995        Germany  \n",
      "2996        Germany  \n",
      "2997         Canada  \n",
      "2998        Germany  \n",
      "2999  United States  \n",
      "\n",
      "[3000 rows x 7 columns]\n"
     ]
    }
   ],
   "source": [
    "# Load the dataset\n",
    "data = pd.read_csv('Netflix_Movies_and_TV_Shows.csv')\n",
    "print   (data)"
   ]
  },
  {
   "cell_type": "code",
   "execution_count": 3,
   "metadata": {},
   "outputs": [],
   "source": [
    "# Feature and Target Separation\n",
    "# Dropping 'Title' as it's non-numeric and using 'Type' as the target variable\n",
    "X = data.drop(columns=['Type', 'Title'])\n",
    "y = data['Type']\n"
   ]
  },
  {
   "cell_type": "code",
   "execution_count": 4,
   "metadata": {},
   "outputs": [],
   "source": [
    "# Handle missing values\n",
    "X.fillna(0, inplace=True)  # Replace NaNs with zeros or use another appropriate strategy\n",
    "\n",
    "# Ensure all columns in X are numeric\n",
    "X = X.apply(pd.to_numeric, errors='coerce')"
   ]
  },
  {
   "cell_type": "code",
   "execution_count": 5,
   "metadata": {},
   "outputs": [
    {
     "name": "stderr",
     "output_type": "stream",
     "text": [
      "c:\\Users\\Administrator\\AppData\\Local\\Programs\\Python\\Python313\\Lib\\site-packages\\sklearn\\utils\\extmath.py:1101: RuntimeWarning: invalid value encountered in divide\n",
      "  updated_mean = (last_sum + new_sum) / updated_sample_count\n",
      "c:\\Users\\Administrator\\AppData\\Local\\Programs\\Python\\Python313\\Lib\\site-packages\\sklearn\\utils\\extmath.py:1106: RuntimeWarning: invalid value encountered in divide\n",
      "  T = new_sum / new_sample_count\n",
      "c:\\Users\\Administrator\\AppData\\Local\\Programs\\Python\\Python313\\Lib\\site-packages\\sklearn\\utils\\extmath.py:1126: RuntimeWarning: invalid value encountered in divide\n",
      "  new_unnormalized_variance -= correction**2 / new_sample_count\n"
     ]
    }
   ],
   "source": [
    "# Check for and handle infinite values\n",
    "X.replace([np.inf, -np.inf], 0, inplace=True)\n",
    "\n",
    "# Scale features\n",
    "scaler = StandardScaler()\n",
    "X_scaled = scaler.fit_transform(X)"
   ]
  },
  {
   "cell_type": "code",
   "execution_count": 6,
   "metadata": {},
   "outputs": [],
   "source": [
    "# Train-test split\n",
    "X_train, X_test, y_train, y_test = train_test_split(X_scaled, y, test_size=0.3, random_state=42)\n"
   ]
  },
  {
   "cell_type": "code",
   "execution_count": 7,
   "metadata": {},
   "outputs": [],
   "source": [
    "# Bat Algorithm Parameters\n",
    "num_bats = 10\n",
    "max_iter = 10\n",
    "loudness = 0.5\n",
    "pulse_rate = 0.5\n",
    "frequency_min, frequency_max = 0, 2\n",
    "\n",
    "# Fitness Function with Additional Metrics\n",
    "def fitness_function_with_metrics(solution):\n",
    "    selected_features = np.where(solution > 0.5)[0]\n",
    "    if len(selected_features) == 0:\n",
    "        return 0, 0, 0, 0  # Return 0 for accuracy, precision, recall, and F1 if no features are selected\n",
    "\n",
    "    # Train model on selected features\n",
    "    clf = RandomForestClassifier(random_state=42, class_weight='balanced')\n",
    "    clf.fit(X_train[:, selected_features], y_train)\n",
    "    preds = clf.predict(X_test[:, selected_features])\n",
    "\n",
    "    # Calculate metrics\n",
    "    accuracy = accuracy_score(y_test, preds)\n",
    "    precision = precision_score(y_test, preds, pos_label=\"Movie\", zero_division=0)\n",
    "    recall = recall_score(y_test, preds, pos_label=\"Movie\", zero_division=0)\n",
    "    f1 = f1_score(y_test, preds, pos_label=\"Movie\", zero_division=0)\n",
    "\n",
    "    return accuracy, precision, recall, f1\n"
   ]
  },
  {
   "cell_type": "code",
   "execution_count": 8,
   "metadata": {},
   "outputs": [],
   "source": [
    "# Initialize bats\n",
    "positions = np.random.rand(num_bats, X.shape[1])  # Random positions in [0,1]\n",
    "velocities = np.random.uniform(-1, 1, (num_bats, X.shape[1]))  # Random velocities\n",
    "best_global = positions[np.random.randint(0, num_bats)]  # Randomly select a bat\n",
    "best_global_accuracy, best_global_precision, best_global_recall, best_global_f1 = fitness_function_with_metrics(best_global)\n"
   ]
  },
  {
   "cell_type": "code",
   "execution_count": 9,
   "metadata": {},
   "outputs": [
    {
     "name": "stdout",
     "output_type": "stream",
     "text": [
      "Iteration 1:\n",
      "   Best Accuracy = 0.4989\n",
      "   Best Precision = 0.4797\n",
      "   Best Recall = 0.4631\n",
      "   Best F1 Score = 0.4713\n",
      "   Selected Features: ['Genre', 'Release Year', 'Rating', 'Country']\n",
      "\n",
      "Iteration 2:\n",
      "   Best Accuracy = 0.4989\n",
      "   Best Precision = 0.4797\n",
      "   Best Recall = 0.4631\n",
      "   Best F1 Score = 0.4713\n",
      "   Selected Features: ['Genre', 'Release Year', 'Rating', 'Country']\n",
      "\n",
      "Iteration 3:\n",
      "   Best Accuracy = 0.4989\n",
      "   Best Precision = 0.4797\n",
      "   Best Recall = 0.4631\n",
      "   Best F1 Score = 0.4713\n",
      "   Selected Features: ['Genre', 'Release Year', 'Rating', 'Country']\n",
      "\n",
      "Iteration 4:\n",
      "   Best Accuracy = 0.4989\n",
      "   Best Precision = 0.4797\n",
      "   Best Recall = 0.4631\n",
      "   Best F1 Score = 0.4713\n",
      "   Selected Features: ['Genre', 'Release Year', 'Rating', 'Country']\n",
      "\n",
      "Iteration 5:\n",
      "   Best Accuracy = 0.4989\n",
      "   Best Precision = 0.4797\n",
      "   Best Recall = 0.4631\n",
      "   Best F1 Score = 0.4713\n",
      "   Selected Features: ['Genre', 'Release Year', 'Rating', 'Country']\n",
      "\n",
      "Iteration 6:\n",
      "   Best Accuracy = 0.4989\n",
      "   Best Precision = 0.4797\n",
      "   Best Recall = 0.4631\n",
      "   Best F1 Score = 0.4713\n",
      "   Selected Features: ['Release Year', 'Rating', 'Country']\n",
      "\n",
      "Iteration 7:\n",
      "   Best Accuracy = 0.4989\n",
      "   Best Precision = 0.4797\n",
      "   Best Recall = 0.4631\n",
      "   Best F1 Score = 0.4713\n",
      "   Selected Features: ['Release Year', 'Rating', 'Country']\n",
      "\n",
      "Iteration 8:\n",
      "   Best Accuracy = 0.4989\n",
      "   Best Precision = 0.4797\n",
      "   Best Recall = 0.4631\n",
      "   Best F1 Score = 0.4713\n",
      "   Selected Features: ['Release Year', 'Rating', 'Country']\n",
      "\n",
      "Iteration 9:\n",
      "   Best Accuracy = 0.4989\n",
      "   Best Precision = 0.4797\n",
      "   Best Recall = 0.4631\n",
      "   Best F1 Score = 0.4713\n",
      "   Selected Features: ['Release Year', 'Rating', 'Country']\n",
      "\n",
      "Iteration 10:\n",
      "   Best Accuracy = 0.4989\n",
      "   Best Precision = 0.4797\n",
      "   Best Recall = 0.4631\n",
      "   Best F1 Score = 0.4713\n",
      "   Selected Features: ['Release Year', 'Rating', 'Country']\n",
      "\n"
     ]
    }
   ],
   "source": [
    "# Bat Algorithm\n",
    "for t in range(max_iter):\n",
    "    for i in range(num_bats):\n",
    "        # Calculate frequency and update velocity and position\n",
    "        frequency = frequency_min + (frequency_max - frequency_min) * np.random.rand()\n",
    "        velocities[i] += (positions[i] - best_global) * frequency\n",
    "        positions[i] = np.clip(positions[i] + velocities[i], 0, 1)  # Ensure positions stay in range\n",
    "\n",
    "        # Local search\n",
    "        if np.random.rand() > pulse_rate:\n",
    "            positions[i] = np.clip(best_global + np.random.normal(0, 0.1, size=X.shape[1]), 0, 1)\n",
    "\n",
    "        # Evaluate fitness\n",
    "        accuracy, precision, recall, f1 = fitness_function_with_metrics(positions[i])\n",
    "        if accuracy > best_global_accuracy and np.random.rand() < loudness:\n",
    "            best_global = positions[i]\n",
    "            best_global_accuracy, best_global_precision, best_global_recall, best_global_f1 = accuracy, precision, recall, f1\n",
    "\n",
    "    # Update loudness and pulse rate\n",
    "    loudness = max(0.1, loudness * 0.95)\n",
    "    pulse_rate = min(1.0, pulse_rate * 1.05)\n",
    "\n",
    "    # Print progress\n",
    "    print(f\"Iteration {t + 1}:\")\n",
    "    print(f\"   Best Accuracy = {best_global_accuracy:.4f}\")\n",
    "    print(f\"   Best Precision = {best_global_precision:.4f}\")\n",
    "    print(f\"   Best Recall = {best_global_recall:.4f}\")\n",
    "    print(f\"   Best F1 Score = {best_global_f1:.4f}\")\n",
    "    selected_features = np.where(best_global > 0.5)[0]\n",
    "    print(\"   Selected Features:\", X.columns[selected_features].tolist())\n",
    "    print()\n"
   ]
  },
  {
   "cell_type": "code",
   "execution_count": 10,
   "metadata": {
    "colab": {
     "base_uri": "https://localhost:8080/"
    },
    "id": "Q3JZFpxwhTWj",
    "outputId": "28c17073-3e37-44da-b8a5-556716c0732e"
   },
   "outputs": [
    {
     "name": "stdout",
     "output_type": "stream",
     "text": [
      "Final Results:\n",
      "Best Accuracy: 0.4989\n",
      "Best Precision: 0.4797\n",
      "Best Recall: 0.4631\n",
      "Best F1 Score: 0.4713\n",
      "Selected Features: ['Release Year', 'Rating', 'Country']\n"
     ]
    }
   ],
   "source": [
    "# Final Results\n",
    "print(\"Final Results:\")\n",
    "print(f\"Best Accuracy: {best_global_accuracy:.4f}\")\n",
    "print(f\"Best Precision: {best_global_precision:.4f}\")\n",
    "print(f\"Best Recall: {best_global_recall:.4f}\")\n",
    "print(f\"Best F1 Score: {best_global_f1:.4f}\")\n",
    "print(\"Selected Features:\", X.columns[selected_features].tolist())\n"
   ]
  }
 ],
 "metadata": {
  "colab": {
   "provenance": []
  },
  "kernelspec": {
   "display_name": "Python 3",
   "name": "python3"
  },
  "language_info": {
   "codemirror_mode": {
    "name": "ipython",
    "version": 3
   },
   "file_extension": ".py",
   "mimetype": "text/x-python",
   "name": "python",
   "nbconvert_exporter": "python",
   "pygments_lexer": "ipython3",
   "version": "3.13.1"
  }
 },
 "nbformat": 4,
 "nbformat_minor": 0
}
